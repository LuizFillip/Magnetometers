{
 "cells": [
  {
   "cell_type": "markdown",
   "id": "4ec41913",
   "metadata": {
    "slideshow": {
     "slide_type": "slide"
    }
   },
   "source": [
    "<div><img src=\"INPE-Logo.png\" width=\"100px\" align=\"right\"></div>\n",
    "\n",
    "# EMBRACE Magnetometers Analysis\n",
    "\n",
    "## Luiz Fillip\n",
    "\n",
    "See EMBRACE description: http://www2.inpe.br/climaespacial/portal/magnetometer-about/\n",
    "\n",
    "Magnetometer measures the strength and sometimes the direction of a magnetic field. An important use is the magnetometer for measuring the earth's magnetic field. By detecting irregularities in the Earth's magnetic field, a magnetometer may indicate the location of magnetic ore deposits such as iron ore, or geological formations associated with oil.\n"
   ]
  },
  {
   "cell_type": "markdown",
   "id": "bd1efc1d",
   "metadata": {
    "slideshow": {
     "slide_type": "subslide"
    }
   },
   "source": [
    "## Sites Locations and Hourly Variation of  Horizontal Component\n",
    "\n",
    "\n",
    "<table>\n",
    "  <tr>\n",
    "  </tr>\n",
    "  <tr>\n",
    "    <td><img src=\"Figures/SitesLocationsMagnetometers.png\" height=\"400\" width=\"350\" ></td>\n",
    "    <td><img src=\"Figures/HorizontalComponent15012022AllSitesVariations.png\" height=\"300\" width=\"350\"/></td>\n",
    "  </tr>\n",
    " </table>\n",
    " \n",
    "### Codes \n",
    "\n",
    "**AllSitesVariations.py and SitesLocations.py**"
   ]
  },
  {
   "cell_type": "markdown",
   "id": "d4d1a39f",
   "metadata": {
    "slideshow": {
     "slide_type": "subslide"
    }
   },
   "source": [
    "## dTrend Analysis\n",
    "\n",
    "Removal the average (10 minutes) from the original data\n",
    "\n",
    "<img src= \"Figures/Horizontal15012022dTrendAnalysis.png\" width=\"500\" height=\"500\">"
   ]
  },
  {
   "cell_type": "markdown",
   "id": "8179bbbc",
   "metadata": {
    "slideshow": {
     "slide_type": "subslide"
    }
   },
   "source": [
    "## Wavelet Analysis\n",
    "\n",
    "Wavelet analysis is becoming a common tool for analyzing localized variations of power within a time series. By decomposing a time series into time–frequency space, one is able to determine both the dominant modes of variability and how those modes vary in time (Torrence and Compo 1998). \n",
    "\n",
    "Wavelet Analysis Software from **Torrence and Compo 1998** \n",
    "\n",
    "see: http://atoc.colorado.edu/research/wavelets/\n",
    "\n",
    "### Power Spectral \n",
    "\n",
    "INPUTS: $\\Delta t = 0.016$ \n",
    "\n",
    "<img src= \"Figures/Power15012022WaveletNormalized.png\" width=\"500\" height=\"500\">\n",
    "\n",
    "### Phase Spectral\n",
    "\n",
    "We can compute the wavelet phase by $\\arctan(\\Im(z), \\Re(z))$\n",
    "\n",
    "<img src= \"Figures/Phase15012022WaveletNormalized.png\" width=\"500\" height=\"500\">\n",
    "\n",
    "### Amplitude Spectral\n",
    "\n",
    "<img src= \"Figures/Amplitude15012022WaveletNormalized.png\" width=\"500\" height=\"500\">\n",
    "\n",
    "#### Python Code\n",
    "\n",
    "We can compute the wavelet amplitude bu $\\Re(z)$\n",
    "\n",
    "Please include the following acknowledgement in any publication:\n",
    "\n",
    "Python wavelet software provided by **Evgeniya Predybaylo** based on Torrence and Compo (1998) and is available at URL: \"http://atoc.colorado.edu/research/wavelets/\""
   ]
  },
  {
   "cell_type": "code",
   "execution_count": 2,
   "id": "1ae3a8df",
   "metadata": {},
   "outputs": [
    {
     "ename": "ModuleNotFoundError",
     "evalue": "No module named 'PressureMagneticFieldInTheSamePlot'",
     "output_type": "error",
     "traceback": [
      "\u001b[1;31m---------------------------------------------------------------------------\u001b[0m",
      "\u001b[1;31mModuleNotFoundError\u001b[0m                       Traceback (most recent call last)",
      "\u001b[1;32m~\\AppData\\Local\\Temp/ipykernel_22020/999439986.py\u001b[0m in \u001b[0;36m<module>\u001b[1;34m\u001b[0m\n\u001b[1;32m----> 1\u001b[1;33m \u001b[1;32mfrom\u001b[0m \u001b[0mPressureMagneticFieldInTheSamePlot\u001b[0m \u001b[1;32mimport\u001b[0m \u001b[1;33m*\u001b[0m\u001b[1;33m\u001b[0m\u001b[1;33m\u001b[0m\u001b[0m\n\u001b[0m",
      "\u001b[1;31mModuleNotFoundError\u001b[0m: No module named 'PressureMagneticFieldInTheSamePlot'"
     ]
    }
   ],
   "source": [
    "from PressureMagneticFieldInTheSamePlot import *"
   ]
  }
 ],
 "metadata": {
  "celltoolbar": "Slideshow",
  "kernelspec": {
   "display_name": "Python 3 (ipykernel)",
   "language": "python",
   "name": "python3"
  },
  "language_info": {
   "codemirror_mode": {
    "name": "ipython",
    "version": 3
   },
   "file_extension": ".py",
   "mimetype": "text/x-python",
   "name": "python",
   "nbconvert_exporter": "python",
   "pygments_lexer": "ipython3",
   "version": "3.9.7"
  }
 },
 "nbformat": 4,
 "nbformat_minor": 5
}
